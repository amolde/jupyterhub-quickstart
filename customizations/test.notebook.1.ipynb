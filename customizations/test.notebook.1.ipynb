{
 "cells": [
  {
   "cell_type": "code",
   "execution_count": null,
   "metadata": {},
   "outputs": [],
   "source": [
    "# %set_env PYSPARK_SUBMIT_ARGS=--packages=org.apache.hadoop:hadoop-aws:2.7.3 --total-executor-cores 1 --executor-cores 0.2 --num-executors 2 --executor-memory 512m --master spark://my-spark-cluster.spark.svc:7077 pyspark-shell"
   ]
  },
  {
   "cell_type": "code",
   "execution_count": null,
   "metadata": {},
   "outputs": [],
   "source": [
    "# %set_env PYSPARK_SUBMIT_ARGS=--total-executor-cores 1 --executor-cores 0.2 --num-executors 2 --executor-memory 512m --master spark://my-spark-cluster.spark.svc:7077 pyspark-shell"
   ]
  },
  {
   "cell_type": "code",
   "execution_count": null,
   "metadata": {},
   "outputs": [],
   "source": [
    "# %set_env PYSPARK_SUBMIT_ARGS=--total-executor-cores 1 --executor-cores 0.2 --num-executors 2 --executor-memory 512m pyspark-shell"
   ]
  },
  {
   "cell_type": "code",
   "execution_count": null,
   "metadata": {},
   "outputs": [],
   "source": [
    "# %set_env PYSPARK_SUBMIT_ARGS=--packages=org.apache.hadoop:hadoop-aws:2.7.3 pyspark-shell"
   ]
  },
  {
   "cell_type": "code",
   "execution_count": null,
   "metadata": {},
   "outputs": [],
   "source": [
    "f = open(\"onesentence.txt\", \"w\")\n",
    "f.write(\"Pyspark and Jupyter is giving me so much trouble.\")\n",
    "f.close()"
   ]
  },
  {
   "cell_type": "code",
   "execution_count": null,
   "metadata": {},
   "outputs": [],
   "source": [
    "import pyspark\n",
    "\n",
    "# from pyspark import SparkContext\n",
    "from pyspark.context import SparkContext\n",
    "from pyspark.sql import SparkSession, SQLContext"
   ]
  },
  {
   "cell_type": "code",
   "execution_count": null,
   "metadata": {},
   "outputs": [],
   "source": [
    "# This is also not running on the cluster!\n",
    "output = SparkContext \\\n",
    "             .getOrCreate() \\\n",
    "             .textFile(\"onesentence.txt\") \\\n",
    "             .flatMap(lambda line: line.split(\" \")) \\\n",
    "             .map(lambda word: (word, 1)) \\\n",
    "             .reduceByKey(lambda a, b: a + b) \\\n",
    "             .collect()\n",
    "for (word, count) in output:\n",
    "    print(\"%s: %i\" % (word, count))"
   ]
  },
  {
   "cell_type": "code",
   "execution_count": null,
   "metadata": {},
   "outputs": [],
   "source": [
    "# Clearly, this is not running on the Spark cluster\n",
    "import socket\n",
    "SparkSession \\\n",
    "    .builder \\\n",
    "    .master(\"spark://my-spark-cluster.spark.svc:7077\") \\\n",
    "    .getOrCreate() \\\n",
    "    .range(10, numPartitions=2) \\\n",
    "    .rdd.map(lambda x: socket.gethostname()) \\\n",
    "    .distinct() \\\n",
    "    .collect()"
   ]
  },
  {
   "cell_type": "code",
   "execution_count": null,
   "metadata": {},
   "outputs": [],
   "source": [
    "f = open(\"onesentence.txt\", \"w\")\n",
    "f.write(\"Pyspark and Jupyter is giving me so much trouble.\")\n",
    "f.close()"
   ]
  },
  {
   "cell_type": "code",
   "execution_count": null,
   "metadata": {},
   "outputs": [],
   "source": [
    "\n"
   ]
  },
  {
   "cell_type": "code",
   "execution_count": null,
   "metadata": {},
   "outputs": [],
   "source": [
    "# spark-basic.py\n",
    "from pyspark import SparkConf\n",
    "from pyspark import SparkContext\n",
    "\n",
    "# conf = SparkConf()\n",
    "# conf.setMaster('spark://my-spark-cluster.spark.svc:7077')\n",
    "# conf.setAppName('spark-basic')\n",
    "# sc = SparkContext(conf=conf)\n",
    "\n",
    "def mod(x):\n",
    "    import numpy as np\n",
    "    return (x, np.mod(x, 2))\n",
    "\n",
    "rdd = SparkContext.getOrCreate().parallelize(range(10)).map(mod).take(10)\n",
    "print(rdd)"
   ]
  }
 ],
 "metadata": {
  "kernelspec": {
   "display_name": "Python 3",
   "language": "python",
   "name": "python3"
  },
  "language_info": {
   "codemirror_mode": {
    "name": "ipython",
    "version": 3
   },
   "file_extension": ".py",
   "mimetype": "text/x-python",
   "name": "python",
   "nbconvert_exporter": "python",
   "pygments_lexer": "ipython3",
   "version": "3.6.3"
  }
 },
 "nbformat": 4,
 "nbformat_minor": 2
}