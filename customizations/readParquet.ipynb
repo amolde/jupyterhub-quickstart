{
 "cells": [
  {
   "cell_type": "code",
   "execution_count": null,
   "metadata": {},
   "outputs": [],
   "source": [
    "from pyspark import SparkConf, SparkContext\n",
    "from pyspark.sql import SparkSession\n",
    " \n",
    "conf = SparkConf()\n",
    "conf.setMaster(\"local\").setAppName(\"My app\")\n",
    " \n",
    "sc = SparkContext.getOrCreate(conf=conf)\n",
    "sc._jsc.hadoopConfiguration().set(\"fs.s3a.aws.credentials.provider\", \"org.apache.hadoop.fs.s3a.AssumedRoleCredentialProvider\")\n",
    "sc._jsc.hadoopConfiguration().set(\"fs.s3a.assumed.role.arn\", \"arn:aws:iam::209299999084:role/ep-test-compute-node-role\")\n",
    "\n",
    "spark = SparkSession(sc)\n",
    "\n",
    "parquetFile = spark.read.parquet(\"s3a://nu-data-lake-test/banner/graduation\")\n",
    "\n",
    "# Parquet files can also be used to create a temporary view and then used in SQL statements.\n",
    "parquetFile.createOrReplaceTempView(\"parquetFile\")\n",
    "count = spark.sql(\"SELECT count(*) FROM parquetFile\")\n",
    "count.show()"
   ]
  }
 ],
 "metadata": {
  "kernelspec": {
   "display_name": "Python 3",
   "language": "python",
   "name": "python3"
  },
  "language_info": {
   "codemirror_mode": {
    "name": "ipython",
    "version": 3
   },
   "file_extension": ".py",
   "mimetype": "text/x-python",
   "name": "python",
   "nbconvert_exporter": "python",
   "pygments_lexer": "ipython3",
   "version": "3.6.3"
  }
 },
 "nbformat": 4,
 "nbformat_minor": 2
}
