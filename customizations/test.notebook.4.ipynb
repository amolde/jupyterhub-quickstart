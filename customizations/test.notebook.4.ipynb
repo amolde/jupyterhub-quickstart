{
 "cells": [
  {
   "cell_type": "code",
   "execution_count": null,
   "metadata": {},
   "outputs": [],
   "source": [
    "sc"
   ]
  },
  {
   "cell_type": "code",
   "execution_count": null,
   "metadata": {},
   "outputs": [],
   "source": [
    "import org.apache.commons.io.IOUtils\n",
    "import java.net.URL\n",
    "import java.nio.charset.Charset\n",
    "\n",
    "// Zeppelin creates and injects sc (SparkContext) and sqlContext (HiveContext or SqlContext)\n",
    "// So you don't need create them manually\n",
    "\n",
    "// load bank data\n",
    "val bankText = sc.parallelize(\n",
    "    IOUtils.toString(\n",
    "        new URL(\"https://s3.amazonaws.com/apache-zeppelin/tutorial/bank/bank.csv\"),\n",
    "        Charset.forName(\"utf8\")).split(\"\\n\"))\n",
    "\n",
    "case class Bank(age: Integer, job: String, marital: String, education: String, balance: Integer)\n",
    "\n",
    "val bankRdd = bankText.map(s => s.split(\";\")).filter(s => s(0) != \"\\\"age\\\"\").map(\n",
    "    s => Bank(s(0).toInt, \n",
    "            s(1).replaceAll(\"\\\"\", \"\"),\n",
    "            s(2).replaceAll(\"\\\"\", \"\"),\n",
    "            s(3).replaceAll(\"\\\"\", \"\"),\n",
    "            s(5).replaceAll(\"\\\"\", \"\").toInt\n",
    "        ))\n",
    "bankRdd"
   ]
  },
  {
   "cell_type": "code",
   "execution_count": null,
   "metadata": {},
   "outputs": [],
   "source": [
    "val bank = bankRdd.toDF()"
   ]
  },
  {
   "cell_type": "code",
   "execution_count": null,
   "metadata": {},
   "outputs": [],
   "source": [
    "bank.registerTempTable(\"bank\")"
   ]
  },
  {
   "cell_type": "code",
   "execution_count": null,
   "metadata": {},
   "outputs": [],
   "source": [
    "%%sql\n",
    "select age, count(1) value\n",
    "from bank \n",
    "where age < 30 \n",
    "group by age \n",
    "order by age"
   ]
  }
 ],
 "metadata": {
  "kernelspec": {
   "display_name": "Spark - Scala",
   "language": "scala",
   "name": "spark_scala"
  },
  "language_info": {
   "codemirror_mode": "text/x-scala",
   "file_extension": ".scala",
   "mimetype": "text/x-scala",
   "name": "scala",
   "pygments_lexer": "scala",
   "version": "2.11.12"
  }
 },
 "nbformat": 4,
 "nbformat_minor": 2
}