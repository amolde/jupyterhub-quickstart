{
 "cells": [
  {
   "cell_type": "code",
   "execution_count": null,
   "metadata": {},
   "outputs": [],
   "source": [
    "import socket\n",
    "SparkSession \\\n",
    "    .builder \\\n",
    "    .master(\"spark://my-spark-cluster.spark.svc:7077\") \\\n",
    "    .getOrCreate() \\\n",
    "    .range(10, numPartitions=2) \\\n",
    "    .rdd.map(lambda x: socket.gethostname()) \\\n",
    "    .distinct() \\\n",
    "    .collect()"
   ]
  },
  {
   "cell_type": "code",
   "execution_count": null,
   "metadata": {},
   "outputs": [],
   "source": [
    "# This is also not running on the cluster!\n",
    "output = SparkContext \\\n",
    "             .getOrCreate() \\\n",
    "             .textFile(\"onesentence.txt\") \\\n",
    "             .flatMap(lambda line: line.split(\" \")) \\\n",
    "             .map(lambda word: (word, 1)) \\\n",
    "             .reduceByKey(lambda a, b: a + b) \\\n",
    "             .collect()\n",
    "for (word, count) in output:\n",
    "    print(\"%s: %i\" % (word, count))\n"
   ]
  }
 ],
 "metadata": {
  "kernelspec": {
   "display_name": "PySpark",
   "language": "",
   "name": "pysparkkernel"
  },
  "language_info": {
   "codemirror_mode": {
    "name": "python",
    "version": 3
   },
   "mimetype": "text/x-python",
   "name": "pyspark",
   "pygments_lexer": "python3"
  }
 },
 "nbformat": 4,
 "nbformat_minor": 2
}