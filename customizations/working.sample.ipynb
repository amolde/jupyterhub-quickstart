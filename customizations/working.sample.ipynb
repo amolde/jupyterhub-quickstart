{
 "cells": [
  {
   "cell_type": "code",
   "execution_count": 13,
   "metadata": {},
   "outputs": [],
   "source": [
    "# %set_env PYSPARK_SUBMIT_ARGS=--packages=org.apache.hadoop:hadoop-aws:2.7.3 --total-executor-cores 1 --executor-cores 0.2 --num-executors 2 --executor-memory 512m --master spark://my-spark-cluster.spark.svc:7077 pyspark-shell"
   ]
  },
  {
   "cell_type": "code",
   "execution_count": 14,
   "metadata": {},
   "outputs": [],
   "source": [
    "# %set_env PYSPARK_SUBMIT_ARGS=--total-executor-cores 1 --executor-cores 0.2 --num-executors 2 --executor-memory 512m --master spark://my-spark-cluster.spark.svc:7077 pyspark-shell"
   ]
  },
  {
   "cell_type": "code",
   "execution_count": 15,
   "metadata": {},
   "outputs": [],
   "source": [
    "# %set_env PYSPARK_SUBMIT_ARGS=--total-executor-cores 1 --executor-cores 0.2 --num-executors 2 --executor-memory 512m pyspark-shell"
   ]
  },
  {
   "cell_type": "code",
   "execution_count": 16,
   "metadata": {},
   "outputs": [],
   "source": [
    "# %set_env PYSPARK_SUBMIT_ARGS=''"
   ]
  },
  {
   "cell_type": "code",
   "execution_count": 1,
   "metadata": {},
   "outputs": [],
   "source": [
    "import pyspark\n",
    "\n",
    "# from pyspark import SparkContext\n",
    "from pyspark.context import SparkContext\n",
    "from pyspark.sql import SparkSession, SQLContext"
   ]
  },
  {
   "cell_type": "code",
   "execution_count": 8,
   "metadata": {},
   "outputs": [
    {
     "data": {
      "text/plain": [
       "['jupyterhub-nb-a-2edeshmukh']"
      ]
     },
     "execution_count": 8,
     "metadata": {},
     "output_type": "execute_result"
    }
   ],
   "source": [
    "import socket\n",
    "SparkSession \\\n",
    "    .builder \\\n",
    "    .master(\"spark://my-spark-cluster.spark.svc:7077\") \\\n",
    "    .getOrCreate() \\\n",
    "    .range(10, numPartitions=2) \\\n",
    "    .rdd.map(lambda x: socket.gethostname()) \\\n",
    "    .distinct() \\\n",
    "    .collect()"
   ]
  },
  {
   "cell_type": "code",
   "execution_count": 2,
   "metadata": {},
   "outputs": [],
   "source": [
    "f = open(\"onesentence.txt\", \"w\")\n",
    "f.write(\"Pyspark and Jupyter is giving me so much trouble.\")\n",
    "f.close()"
   ]
  },
  {
   "cell_type": "code",
   "execution_count": 7,
   "metadata": {},
   "outputs": [
    {
     "name": "stdout",
     "output_type": "stream",
     "text": [
      "Pyspark: 1\n",
      "and: 1\n",
      "Jupyter: 1\n",
      "is: 1\n",
      "giving: 1\n",
      "me: 1\n",
      "so: 1\n",
      "much: 1\n",
      "trouble.: 1\n"
     ]
    }
   ],
   "source": [
    "output = SparkContext \\\n",
    "             .getOrCreate() \\\n",
    "             .textFile(\"onesentence.txt\") \\\n",
    "             .flatMap(lambda line: line.split(\" \")) \\\n",
    "             .map(lambda word: (word, 1)) \\\n",
    "             .reduceByKey(lambda a, b: a + b) \\\n",
    "             .collect()\n",
    "for (word, count) in output:\n",
    "    print(\"%s: %i\" % (word, count))\n"
   ]
  }
 ],
 "metadata": {
  "kernelspec": {
   "display_name": "Python 3",
   "language": "python",
   "name": "python3"
  },
  "language_info": {
   "codemirror_mode": {
    "name": "ipython",
    "version": 3
   },
   "file_extension": ".py",
   "mimetype": "text/x-python",
   "name": "python",
   "nbconvert_exporter": "python",
   "pygments_lexer": "ipython3",
   "version": "3.6.3"
  }
 },
 "nbformat": 4,
 "nbformat_minor": 2
}
